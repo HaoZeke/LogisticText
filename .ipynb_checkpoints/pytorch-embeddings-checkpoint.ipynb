{
 "cells": [
  {
   "cell_type": "code",
   "execution_count": 1,
   "metadata": {},
   "outputs": [
    {
     "data": {
      "text/plain": [
       "<torch._C.Generator at 0x10bf876b0>"
      ]
     },
     "execution_count": 1,
     "metadata": {},
     "output_type": "execute_result"
    }
   ],
   "source": [
    "import torch\n",
    "from torch.autograd import Variable\n",
    "import torch.nn as nn\n",
    "import torch.nn.functional as F\n",
    "import torch.optim as optim\n",
    "\n",
    "torch.manual_seed(1)"
   ]
  },
  {
   "cell_type": "code",
   "execution_count": 2,
   "metadata": {},
   "outputs": [
    {
     "name": "stdout",
     "output_type": "stream",
     "text": [
      "vocab_size: 49\n"
     ]
    }
   ],
   "source": [
    "CONTEXT_SIZE = 2  # 2 words to the left, 2 to the right\n",
    "text = \"\"\"We are about to study the idea of a computational process.\n",
    "Computational processes are abstract beings that inhabit computers.\n",
    "As they evolve, processes manipulate other abstract things called data.\n",
    "The evolution of a process is directed by a pattern of rules\n",
    "called a program. People create programs to direct processes. In effect,\n",
    "we conjure the spirits of the computer with our spells.\"\"\".split()\n",
    "\n",
    "split_ind = (int)(len(text) * 0.8)\n",
    "\n",
    "# By deriving a set from `raw_text`, we deduplicate the array\n",
    "vocab = set(text)\n",
    "vocab_size = len(vocab)\n",
    "print('vocab_size:', vocab_size)\n",
    "\n",
    "w2i = {w: i for i, w in enumerate(vocab)}\n",
    "i2w = {i: w for i, w in enumerate(vocab)}"
   ]
  },
  {
   "cell_type": "code",
   "execution_count": 3,
   "metadata": {},
   "outputs": [],
   "source": [
    "def create_skipgram_dataset(text):\n",
    "    import random\n",
    "    data = []\n",
    "    for i in range(2, len(text) - 2):\n",
    "        data.append((text[i], text[i-2], 1))\n",
    "        data.append((text[i], text[i-1], 1))\n",
    "        data.append((text[i], text[i+1], 1))\n",
    "        data.append((text[i], text[i+2], 1))\n",
    "        # negative sampling\n",
    "        for _ in range(4):\n",
    "            if random.random() < 0.5 or i >= len(text) - 3:\n",
    "                rand_id = random.randint(0, i-1)\n",
    "            else:\n",
    "                rand_id = random.randint(i+3, len(text)-1)\n",
    "            data.append((text[i], text[rand_id], 0))\n",
    "    return data"
   ]
  },
  {
   "cell_type": "code",
   "execution_count": 9,
   "metadata": {},
   "outputs": [
    {
     "name": "stdout",
     "output_type": "stream",
     "text": [
      "skipgram sample [('about', 'We', 1), ('about', 'are', 1), ('about', 'to', 1), ('about', 'study', 1), ('about', 'they', 0), ('about', 'programs', 0), ('about', 'are', 0), ('about', 'programs', 0), ('to', 'are', 1)]\n"
     ]
    }
   ],
   "source": [
    "skipgram_train = create_skipgram_dataset(text)\n",
    "print('skipgram sample', skipgram_train[0:9])"
   ]
  },
  {
   "cell_type": "code",
   "execution_count": 17,
   "metadata": {},
   "outputs": [],
   "source": [
    "class SkipGram(nn.Module):\n",
    "    def __init__(self, vocab_size, embd_size):\n",
    "        super(SkipGram, self).__init__()\n",
    "        self.embeddings_f = nn.Embedding(vocab_size, embd_size)\n",
    "        self.embeddings_c = nn.Embedding(vocab_size, embd_size)\n",
    "        \n",
    "    def forward(self, focus, context):\n",
    "        embed_focus = self.embeddings_f(focus).view((1, -1))\n",
    "        embed_ctx = self.embeddings_c(context).view((1, -1))\n",
    "        score = torch.mm(embed_focus, torch.t(embed_ctx))\n",
    "        log_probs = F.logsigmoid(score)\n",
    "    \n",
    "        return log_probs"
   ]
  },
  {
   "cell_type": "code",
   "execution_count": 18,
   "metadata": {},
   "outputs": [],
   "source": [
    "embd_size = 100\n",
    "learning_rate = 0.001\n",
    "n_epoch = 30"
   ]
  },
  {
   "cell_type": "code",
   "execution_count": 19,
   "metadata": {},
   "outputs": [
    {
     "name": "stdout",
     "output_type": "stream",
     "text": [
      "SkipGram(\n",
      "  (embeddings_f): Embedding(49, 100)\n",
      "  (embeddings_c): Embedding(49, 100)\n",
      ")\n"
     ]
    }
   ],
   "source": [
    "def train_skipgram():\n",
    "    losses = []\n",
    "    loss_fn = nn.MSELoss()\n",
    "    model = SkipGram(vocab_size, embd_size)\n",
    "    print(model)\n",
    "    optimizer = optim.SGD(model.parameters(), lr=learning_rate)\n",
    "    \n",
    "    for epoch in range(n_epoch):\n",
    "        total_loss = .0\n",
    "        for in_w, out_w, target in skipgram_train:\n",
    "            in_w_var = torch.LongTensor([w2i[in_w]])\n",
    "            out_w_var = torch.LongTensor([w2i[out_w]])\n",
    "            \n",
    "            model.zero_grad()\n",
    "            log_probs = model(in_w_var, out_w_var)\n",
    "            loss = loss_fn(log_probs[0], Variable(torch.Tensor([target])))\n",
    "            \n",
    "            loss.backward()\n",
    "            optimizer.step()\n",
    "\n",
    "            total_loss += loss.item()\n",
    "        losses.append(total_loss)\n",
    "    return model, losses\n",
    "    \n",
    "sg_model, sg_losses = train_skipgram()"
   ]
  },
  {
   "cell_type": "code",
   "execution_count": 20,
   "metadata": {},
   "outputs": [
    {
     "name": "stdout",
     "output_type": "stream",
     "text": [
      "------\n",
      "====Test SkipGram===\n",
      "Accuracy: 50.0% (232/464)\n"
     ]
    }
   ],
   "source": [
    "def test_skipgram(test_data, model):\n",
    "    print('====Test SkipGram===')\n",
    "    correct_ct = 0\n",
    "    for in_w, out_w, target in test_data:\n",
    "        in_w_var = Variable(torch.LongTensor([w2i[in_w]]))\n",
    "        out_w_var = Variable(torch.LongTensor([w2i[out_w]]))\n",
    "\n",
    "        model.zero_grad()\n",
    "        log_probs = model(in_w_var, out_w_var)\n",
    "        _, predicted = torch.max(log_probs.data, 1)\n",
    "        predicted = predicted[0]\n",
    "        if predicted == target:\n",
    "            correct_ct += 1\n",
    "\n",
    "    print('Accuracy: {:.1f}% ({:d}/{:d})'.format(correct_ct/len(test_data)*100, correct_ct, len(test_data)))\n",
    "\n",
    "print('------')\n",
    "test_skipgram(skipgram_train, sg_model)"
   ]
  },
  {
   "cell_type": "code",
   "execution_count": 21,
   "metadata": {},
   "outputs": [
    {
     "data": {
      "text/plain": [
       "<Figure size 432x288 with 0 Axes>"
      ]
     },
     "metadata": {},
     "output_type": "display_data"
    },
    {
     "data": {
      "image/png": "[encoded data removed]",
      "text/plain": [
       "<Figure size 432x288 with 1 Axes>"
      ]
     },
     "metadata": {},
     "output_type": "display_data"
    }
   ],
   "source": [
    "%matplotlib inline\n",
    "import matplotlib.pyplot as plt\n",
    "import numpy as np\n",
    "\n",
    "def showPlot(points, title):\n",
    "    plt.figure()\n",
    "    fig, ax = plt.subplots()\n",
    "    plt.plot(points)\n",
    "\n",
    "showPlot(sg_losses, 'SkipGram Losses')"
   ]
  },
  {
   "cell_type": "code",
   "execution_count": 51,
   "metadata": {},
   "outputs": [],
   "source": [
    "z= zip(i2w, list(sg_model.embeddings_f.parameters())[0].detach().numpy())"
   ]
  },
  {
   "cell_type": "code",
   "execution_count": 52,
   "metadata": {},
   "outputs": [],
   "source": [
    "d = dict(z)"
   ]
  },
  {
   "cell_type": "code",
   "execution_count": 53,
   "metadata": {},
   "outputs": [
    {
     "data": {
      "text/plain": [
       "dict_keys([0, 1, 2, 3, 4, 5, 6, 7, 8, 9, 10, 11, 12, 13, 14, 15, 16, 17, 18, 19, 20, 21, 22, 23, 24, 25, 26, 27, 28, 29, 30, 31, 32, 33, 34, 35, 36, 37, 38, 39, 40, 41, 42, 43, 44, 45, 46, 47, 48])"
      ]
     },
     "execution_count": 53,
     "metadata": {},
     "output_type": "execute_result"
    }
   ],
   "source": [
    "d.keys()"
   ]
  },
  {
   "cell_type": "code",
   "execution_count": 55,
   "metadata": {},
   "outputs": [
    {
     "data": {
      "text/plain": [
       "(100,)"
      ]
     },
     "execution_count": 55,
     "metadata": {},
     "output_type": "execute_result"
    }
   ],
   "source": [
    "d[0].shape"
   ]
  },
  {
   "cell_type": "code",
   "execution_count": 57,
   "metadata": {},
   "outputs": [
    {
     "data": {
      "text/plain": [
       "('we', array([ 0.67090243, -0.5993074 ,  1.4233404 , -2.2794077 ,  1.731228  ,\n",
       "         0.7301702 ,  0.88645023, -0.07895796,  0.55967104,  0.5559714 ,\n",
       "        -0.11606521, -0.38078332, -1.3236803 , -1.2457458 , -0.11685435,\n",
       "        -1.5843215 ,  0.06236044, -0.8066515 , -0.4133613 , -0.92981064,\n",
       "         0.40016824,  0.8178331 , -0.71071774, -0.58398324,  0.35759664,\n",
       "        -0.13082688,  1.3851538 , -1.826883  , -0.8659496 ,  1.0501364 ,\n",
       "        -1.3901044 , -0.7950821 , -0.26796776,  1.3278793 ,  0.7900257 ,\n",
       "         0.6282355 , -0.37983897,  1.1330457 , -1.2013459 ,  0.08847363,\n",
       "        -1.1951258 ,  0.5751998 , -0.3182801 ,  0.21377638,  0.3991024 ,\n",
       "         1.9666207 ,  0.3633921 ,  1.0467483 ,  0.44409135,  0.42268166,\n",
       "         1.871569  , -1.5473878 ,  0.66922057,  0.80238086,  1.9534312 ,\n",
       "         2.5144176 , -0.79994196, -0.90257126, -0.64504445, -1.4510945 ,\n",
       "         0.5251965 , -1.387831  , -0.6400577 , -0.29174054, -0.65439343,\n",
       "         1.4228222 , -0.48697326, -0.64329565, -1.2983813 ,  0.34933856,\n",
       "        -0.9718665 ,  0.2479984 ,  0.20839725,  0.667668  , -2.0995493 ,\n",
       "         0.44201487, -0.6386585 , -0.5065491 ,  2.183848  , -0.14332494,\n",
       "         1.6314816 , -0.7621412 ,  0.23629428,  1.474568  , -0.2477397 ,\n",
       "        -1.8710017 , -0.324995  , -1.2759008 , -0.8118412 ,  0.13228455,\n",
       "         1.0751044 ,  0.62710434,  0.00845527, -0.09377678, -0.3581289 ,\n",
       "        -0.19462007,  0.92950124,  0.54975784,  0.5806354 ,  2.3802    ],\n",
       "       dtype=float32))"
      ]
     },
     "execution_count": 57,
     "metadata": {},
     "output_type": "execute_result"
    }
   ],
   "source": [
    "i2w[0], d[0]"
   ]
  },
  {
   "cell_type": "code",
   "execution_count": 58,
   "metadata": {},
   "outputs": [
    {
     "data": {
      "text/plain": [
       "{0: 'we',\n",
       " 1: 'evolution',\n",
       " 2: 'to',\n",
       " 3: 'directed',\n",
       " 4: 'conjure',\n",
       " 5: 'are',\n",
       " 6: 'inhabit',\n",
       " 7: 'our',\n",
       " 8: 'create',\n",
       " 9: 'As',\n",
       " 10: 'spells.',\n",
       " 11: 'a',\n",
       " 12: 'about',\n",
       " 13: 'called',\n",
       " 14: 'computational',\n",
       " 15: 'rules',\n",
       " 16: 'computers.',\n",
       " 17: 'We',\n",
       " 18: 'manipulate',\n",
       " 19: 'In',\n",
       " 20: 'of',\n",
       " 21: 'program.',\n",
       " 22: 'The',\n",
       " 23: 'other',\n",
       " 24: 'the',\n",
       " 25: 'programs',\n",
       " 26: 'evolve,',\n",
       " 27: 'pattern',\n",
       " 28: 'with',\n",
       " 29: 'study',\n",
       " 30: 'processes.',\n",
       " 31: 'abstract',\n",
       " 32: 'by',\n",
       " 33: 'things',\n",
       " 34: 'data.',\n",
       " 35: 'they',\n",
       " 36: 'People',\n",
       " 37: 'is',\n",
       " 38: 'effect,',\n",
       " 39: 'beings',\n",
       " 40: 'Computational',\n",
       " 41: 'idea',\n",
       " 42: 'that',\n",
       " 43: 'process',\n",
       " 44: 'computer',\n",
       " 45: 'direct',\n",
       " 46: 'processes',\n",
       " 47: 'process.',\n",
       " 48: 'spirits'}"
      ]
     },
     "execution_count": 58,
     "metadata": {},
     "output_type": "execute_result"
    }
   ],
   "source": [
    "i2w"
   ]
  },
  {
   "cell_type": "code",
   "execution_count": 60,
   "metadata": {},
   "outputs": [
    {
     "data": {
      "text/plain": [
       "0.023402633"
      ]
     },
     "execution_count": 60,
     "metadata": {},
     "output_type": "execute_result"
    }
   ],
   "source": [
    "np.dot(d[46], d[25])/np.sqrt(np.dot(d[46], d[46])*np.dot(d[25], d[25]))"
   ]
  },
  {
   "cell_type": "code",
   "execution_count": null,
   "metadata": {},
   "outputs": [],
   "source": []
  }
 ],
 "metadata": {
  "kernelspec": {
   "display_name": "Python 3",
   "language": "python",
   "name": "python3"
  },
  "language_info": {
   "codemirror_mode": {
    "name": "ipython",
    "version": 3
   },
   "file_extension": ".py",
   "mimetype": "text/x-python",
   "name": "python",
   "nbconvert_exporter": "python",
   "pygments_lexer": "ipython3",
   "version": "3.6.8"
  }
 },
 "nbformat": 4,
 "nbformat_minor": 2
}
